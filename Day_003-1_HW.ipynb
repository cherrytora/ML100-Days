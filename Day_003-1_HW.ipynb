{
 "cells": [
  {
   "cell_type": "markdown",
   "metadata": {},
   "source": [
    "## 想像一個 dataframe 有兩個欄位，一個是國家，一個是人口，求人口數最多的國家\n"
   ]
  },
  {
   "cell_type": "code",
   "execution_count": 45,
   "metadata": {},
   "outputs": [
    {
     "name": "stdout",
     "output_type": "stream",
     "text": [
      "{'國家': ['Taiwan', 'U.S', 'Japan', 'U.K.', 'Canada'], '人口': array([17271515,  5359872, 22047969, 21439970, 29178533])}\n",
      "       國家        人口\n",
      "0  Taiwan  17271515\n",
      "1     U.S   5359872\n",
      "2   Japan  22047969\n",
      "3    U.K.  21439970\n",
      "4  Canada  29178533\n",
      "國家      Canada\n",
      "人口    29178533\n",
      "Name: 4, dtype: object\n"
     ]
    },
    {
     "name": "stderr",
     "output_type": "stream",
     "text": [
      "/anaconda3/lib/python3.7/site-packages/ipykernel_launcher.py:12: FutureWarning: 'argmax' is deprecated, use 'idxmax' instead. The behavior of 'argmax'\n",
      "will be corrected to return the positional maximum in the future.\n",
      "Use 'series.values.argmax' to get the position of the maximum now.\n",
      "  if sys.path[0] == '':\n"
     ]
    }
   ],
   "source": [
    "import pandas as pd\n",
    "import numpy as np\n",
    "\n",
    "country = ['Taiwan',\"U.S\",\"Japan\",\"U.K.\",\"Canada\"]\n",
    "population = np.random.randint(30000000,size = 5) #人口數用np隨機產出5個數值\n",
    "dic = {\"國家\":country,\"人口\":population}\n",
    "print(dic)\n",
    "df = pd.DataFrame(dic)\n",
    "print(df)\n",
    "\n",
    "#找出人口數最多的國家\n",
    "i = df[\"人口\"].argmax()\n",
    "#df.ix[i]\n",
    "print(df.loc[i])"
   ]
  },
  {
   "cell_type": "code",
   "execution_count": 46,
   "metadata": {},
   "outputs": [
    {
     "name": "stdout",
     "output_type": "stream",
     "text": [
      "Taiwan    17271515\n",
      "U.S        5359872\n",
      "Japan     22047969\n",
      "U.K.      21439970\n",
      "Canada    29178533\n",
      "dtype: int64\n"
     ]
    },
    {
     "name": "stderr",
     "output_type": "stream",
     "text": [
      "/anaconda3/lib/python3.7/site-packages/ipykernel_launcher.py:4: FutureWarning: 'argmax' is deprecated, use 'idxmax' instead. The behavior of 'argmax'\n",
      "will be corrected to return the positional maximum in the future.\n",
      "Use 'series.values.argmax' to get the position of the maximum now.\n",
      "  after removing the cwd from sys.path.\n"
     ]
    },
    {
     "data": {
      "text/plain": [
       "'Canada'"
      ]
     },
     "execution_count": 46,
     "metadata": {},
     "output_type": "execute_result"
    }
   ],
   "source": [
    "#求人口數最多的國家 <Series>\n",
    "df_S = pd.Series(population,index = country)\n",
    "print(df_S)\n",
    "max_country = df_S.argmax()\n",
    "max_country"
   ]
  },
  {
   "cell_type": "code",
   "execution_count": null,
   "metadata": {},
   "outputs": [],
   "source": []
  }
 ],
 "metadata": {
  "kernelspec": {
   "display_name": "Python 3",
   "language": "python",
   "name": "python3"
  },
  "language_info": {
   "codemirror_mode": {
    "name": "ipython",
    "version": 3
   },
   "file_extension": ".py",
   "mimetype": "text/x-python",
   "name": "python",
   "nbconvert_exporter": "python",
   "pygments_lexer": "ipython3",
   "version": "3.7.0"
  }
 },
 "nbformat": 4,
 "nbformat_minor": 2
}
