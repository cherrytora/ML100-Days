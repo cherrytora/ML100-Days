{
 "cells": [
  {
   "cell_type": "markdown",
   "metadata": {},
   "source": [
    "##  請上 Kaggle, 在 Competitions 或 Dataset 中找⼀組競賽或資料並寫下"
   ]
  },
  {
   "cell_type": "markdown",
   "metadata": {},
   "source": [
    "我選的資料為：https://www.kaggle.com/szamil/who-suicide-statistics\n",
    "WHO Suicide Statistics\n",
    "Basic historical (1979-2016) data by country, year and demographic groups\n",
    "\n",
    "1. 你選的這組資料為何重要\n",
    "\n",
    "A:世界衛生組織（ＷＨＯ）的自殺統計，可以清楚看見不同年份不同國家的自殺人數、自殺率、性別、年齡層差異。\n",
    "此統計資料搭配特定時空或其他因素，能夠提供相關單位（例如精神醫學）了解、預測自殺的因素或高風險族群，建立對應政策或醫療方式，提升人類社會心理健康。\n",
    "\n",
    "2. 資料從何而來 (tips: 譬如提供者是誰、以什麼方式蒐集)\n",
    "\n",
    "A:該資料由作者透過WHO Mortality Database online tool搜集\n",
    "\n",
    "3. 蒐集而來的資料型態為何\n",
    "\n",
    "A:資料型態為結構化的數值及表格\n",
    "\n",
    "4. 這組資料想解決的問題如何評估\n",
    "\n",
    "A:分析各國（文化差異）、各年齡層、性別自殺率差異，建立高自殺風險族群，藉由教育或醫療手段介入，降低自殺率。\n"
   ]
  },
  {
   "cell_type": "markdown",
   "metadata": {},
   "source": [
    "## 想像你經營⼀個⾃由載客⾞隊，你希望能透過數據分析以提升業績，請你思考並描述你如何規劃整體的分析/解決⽅案"
   ]
  },
  {
   "cell_type": "markdown",
   "metadata": {},
   "source": [
    "1. 核⼼問題為何 (tips: 如何定義 提升業績 & 你的假設)\n",
    "\n",
    "A:提高載客率、提高叫車率\n",
    "\n",
    "2. 資料從何⽽來 (tips: 哪些資料可能會對你想問的問題產⽣影響 & 資料如何蒐集)\n",
    "\n",
    "A:藉由滿意度調查、尖峰載客時間與地區等方式搜集資料\n",
    "\n",
    "3. 蒐集⽽來的資料型態為何\n",
    "\n",
    "A:資料型態為結構化資料\n",
    "\n",
    "4. 你要回答的問題，其如何評估 (tips: 你的假設如何驗證) \n",
    "\n",
    "A:分析尖峰載客時間及地區增加派車。藉由滿意度分析了解是否有某些地區、特定載客車輛滿意度較低、作配置調度提升滿意度增加叫車率。\n"
   ]
  },
  {
   "cell_type": "markdown",
   "metadata": {},
   "source": [
    "## 請寫一個函式用來計算 Mean Square Error\n",
    "## $ MSE = \\frac{1}{n}\\sum_{i=1}^{n}{(Y_i - \\hat{Y}_i)^2} $\n",
    "## $ MAE = \\frac{1}{n}\\sum_{i=1}^n|f_i-y_i| $\n"
   ]
  },
  {
   "cell_type": "code",
   "execution_count": 17,
   "metadata": {},
   "outputs": [],
   "source": [
    "import numpy as np\n",
    "import matplotlib.pyplot as plt\n",
    "\n",
    "def mean_squared_error(y,yp):\n",
    "    mse = MSE = sum((y - yp)**2) / len(y)\n",
    "    return mse\n",
    "    \n"
   ]
  },
  {
   "cell_type": "code",
   "execution_count": 18,
   "metadata": {},
   "outputs": [
    {
     "data": {
      "image/png": "[encoded data removed]",
      "text/plain": [
       "<Figure size 432x288 with 1 Axes>"
      ]
     },
     "metadata": {
      "needs_background": "light"
     },
     "output_type": "display_data"
    }
   ],
   "source": [
    "w = 3\n",
    "b = 0.5\n",
    "\n",
    "x_lin = np.linspace(0, 100, 101)\n",
    "\n",
    "y = (x_lin + np.random.randn(101) * 5) * w + b\n",
    "\n",
    "plt.plot(x_lin, y, 'b.', label = 'data points')\n",
    "plt.title(\"Assume we have data points\")\n",
    "plt.legend(loc = 2)\n",
    "plt.show()"
   ]
  },
  {
   "cell_type": "code",
   "execution_count": 19,
   "metadata": {},
   "outputs": [
    {
     "data": {
      "image/png": "[encoded data removed]",
      "text/plain": [
       "<Figure size 432x288 with 1 Axes>"
      ]
     },
     "metadata": {
      "needs_background": "light"
     },
     "output_type": "display_data"
    }
   ],
   "source": [
    "w = 3\n",
    "b = 0.5\n",
    "\n",
    "x_lin = np.linspace(0, 100, 101)\n",
    "\n",
    "y = (x_lin + np.random.randn(101) * 5) * w + b\n",
    "\n",
    "plt.plot(x_lin, y, 'b.', label = 'data points')\n",
    "plt.title(\"Assume we have data points\")\n",
    "plt.legend(loc = 2)\n",
    "plt.show()"
   ]
  },
  {
   "cell_type": "code",
   "execution_count": 20,
   "metadata": {},
   "outputs": [
    {
     "name": "stdout",
     "output_type": "stream",
     "text": [
      "The Mean squared error is 224.924\n",
      "The Mean absolute error is 12.253\n"
     ]
    }
   ],
   "source": [
    "# 執行 Function, 確認有沒有正常執行\n",
    "def mean_absolute_error(y, yp):\n",
    "    mae = MAE = sum(abs(y - yp)) / len(y)\n",
    "    return mae\n",
    "MSE = mean_squared_error(y, y_hat)\n",
    "MAE = mean_absolute_error(y, y_hat)\n",
    "print(\"The Mean squared error is %.3f\" % (MSE))\n",
    "print(\"The Mean absolute error is %.3f\" % (MAE))"
   ]
  },
  {
   "cell_type": "code",
   "execution_count": null,
   "metadata": {},
   "outputs": [],
   "source": []
  }
 ],
 "metadata": {
  "kernelspec": {
   "display_name": "Python 3",
   "language": "python",
   "name": "python3"
  },
  "language_info": {
   "codemirror_mode": {
    "name": "ipython",
    "version": 3
   },
   "file_extension": ".py",
   "mimetype": "text/x-python",
   "name": "python",
   "nbconvert_exporter": "python",
   "pygments_lexer": "ipython3",
   "version": "3.7.0"
  }
 },
 "nbformat": 4,
 "nbformat_minor": 2
}
